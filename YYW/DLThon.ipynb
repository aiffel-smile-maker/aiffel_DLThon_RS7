{
 "cells": [
  {
   "cell_type": "code",
   "execution_count": null,
   "metadata": {},
   "outputs": [],
   "source": [
    "!pip install huggingface_hub"
   ]
  },
  {
   "cell_type": "code",
   "execution_count": null,
   "metadata": {},
   "outputs": [],
   "source": [
    "!pip install wandb==0.16.0"
   ]
  },
  {
   "cell_type": "code",
   "execution_count": null,
   "metadata": {},
   "outputs": [],
   "source": [
    "!pip install --upgrade datasets"
   ]
  },
  {
   "cell_type": "code",
   "execution_count": null,
   "metadata": {},
   "outputs": [],
   "source": [
    "from datasets import load_dataset\n",
    "dataset = load_dataset(\"nateraw/pascal-voc-2012\",split = 'train')"
   ]
  },
  {
   "cell_type": "code",
   "execution_count": null,
   "metadata": {},
   "outputs": [],
   "source": [
    "# 데이터셋의 기본 정보 출력\n",
    "print(\"데이터셋 정보:\")\n",
    "print(dataset)\n",
    "\n",
    "# 데이터셋의 첫 번째 샘플 출력\n",
    "print(\"\\n첫 번째 데이터 샘플:\")\n",
    "print(dataset[0])\n",
    "\n",
    "# 데이터셋의 특정 필드 이름 및 데이터 타입 탐색\n",
    "print(\"\\n필드 이름 및 데이터 타입:\")\n",
    "for field, field_type in dataset.features.items():\n",
    "    print(f\"{field}: {field_type}\")"
   ]
  },
  {
   "cell_type": "code",
   "execution_count": null,
   "metadata": {},
   "outputs": [],
   "source": [
    "import matplotlib.pyplot as plt\n",
    "\n",
    "# 첫 번째 데이터 샘플을 로드\n",
    "first_sample = dataset[0]\n",
    "image = first_sample['image']\n",
    "mask = first_sample['mask']\n",
    "\n",
    "# 이미지와 마스크 표시\n",
    "fig, ax = plt.subplots(1, 2, figsize=(12, 6))\n",
    "\n",
    "# 원본 이미지\n",
    "ax[0].imshow(image)\n",
    "ax[0].set_title('original')\n",
    "ax[0].axis('off')\n",
    "\n",
    "# 마스크 이미지\n",
    "ax[1].imshow(mask)\n",
    "ax[1].set_title('mask')\n",
    "ax[1].axis('off')\n",
    "\n",
    "plt.show()\n"
   ]
  },
  {
   "cell_type": "code",
   "execution_count": null,
   "metadata": {},
   "outputs": [],
   "source": [
    "import os\n",
    "import math\n",
    "import numpy as np\n",
    "import tensorflow as tf\n",
    "import random\n",
    "import pickle\n",
    "\n",
    "from PIL import Image\n",
    "import matplotlib.pyplot as plt\n",
    "from skimage.io import imread, imshow,show\n",
    "from skimage.transform import resize\n",
    "from glob import glob\n",
    "\n",
    "from tensorflow.keras.models import *\n",
    "from tensorflow.keras.layers import *\n",
    "from tensorflow.keras.optimizers import *"
   ]
  },
  {
   "cell_type": "code",
   "execution_count": null,
   "metadata": {},
   "outputs": [],
   "source": [
    "# random seed 설정\n",
    "tf.random.set_seed(42)\n",
    "random.seed(1234)"
   ]
  },
  {
   "cell_type": "code",
   "execution_count": null,
   "metadata": {},
   "outputs": [],
   "source": [
    "image_width, image_height = 224, 224\n",
    "\n",
    "from albumentations import  HorizontalFlip, RandomSizedCrop, Compose, OneOf, Resize\n",
    "\n",
    "def build_augmentation(is_train=True):\n",
    "  if is_train:    # 훈련용 데이터일 경우\n",
    "    return Compose([\n",
    "                    HorizontalFlip(p=0.5),    # 50%의 확률로 좌우대칭\n",
    "                    RandomSizedCrop(         # 50%의 확률로 RandomSizedCrop\n",
    "                        min_max_height=(300, 370),\n",
    "                        w2h_ratio=370/1242,\n",
    "                        height=image_height,\n",
    "                        width=image_width,\n",
    "                        p=0.5\n",
    "                        ),\n",
    "                    Resize(              # 입력이미지를 224X224로 resize\n",
    "                        width=image_width,\n",
    "                        height=image_height\n",
    "                        )\n",
    "                    ])\n",
    "  return Compose([      # 테스트용 데이터일 경우에는 224X224로 resize만 수행합니다. \n",
    "                Resize(\n",
    "                    width=image_width,\n",
    "                    height=image_height\n",
    "                    )\n",
    "                ])"
   ]
  },
  {
   "cell_type": "code",
   "execution_count": null,
   "metadata": {},
   "outputs": [],
   "source": [
    "from PIL import Image\n",
    "import numpy as np\n",
    "\n",
    "def resize_image(image, target_size=(224, 224), is_mask=False):\n",
    "    \"\"\"이미지를 지정된 크기로 리사이징하는 함수\"\"\"\n",
    "    if is_mask:\n",
    "        # 마스크의 경우 nearest neighbor 보간 사용\n",
    "        return image.resize(target_size, Image.NEAREST)\n",
    "    else:\n",
    "        # 일반 이미지의 경우 기본 보간 방법 사용\n",
    "        return image.resize(target_size)\n",
    "\n",
    "# 이미지와 마스크를 NumPy 배열로 변환\n",
    "input_images = np.array([np.array(resize_image(img)) for img in dataset['image']])\n",
    "input_labels = np.array([np.array(resize_image(mask, is_mask=True)) for mask in dataset['mask']])\n",
    "\n",
    "# 변환된 배열의 형태 확인\n",
    "print(\"Images shape:\", input_images.shape)\n",
    "print(\"Labels shape:\", input_labels.shape)\n",
    "\n"
   ]
  },
  {
   "cell_type": "code",
   "execution_count": null,
   "metadata": {},
   "outputs": [],
   "source": [
    "# 데이터 확인\n",
    "import numpy as np\n",
    "\n",
    "augmentation_train = build_augmentation()\n",
    "augmentation_test = build_augmentation(is_train=False)\n",
    "\n",
    "# 훈련 데이터셋에서 5개만 가져와 augmentation을 적용해 봅시다.  \n",
    "plt.figure(figsize=(12, 20))\n",
    "for i in range(5):\n",
    "    image =  np.array(dataset[i]['image'])\n",
    "    image_data = {\"image\":image}\n",
    "    resized = augmentation_test(**image_data)\n",
    "    processed = augmentation_train(**image_data)\n",
    "    plt.subplot(5, 2, 2*i+1)\n",
    "    plt.imshow(resized[\"image\"])  # 왼쪽이 원본이미지\n",
    "    plt.subplot(5, 2, 2*i+2)\n",
    "    plt.imshow(processed[\"image\"])  # 오른쪽이 augment된 이미지\n",
    "  \n",
    "plt.show()"
   ]
  },
  {
   "cell_type": "code",
   "execution_count": null,
   "metadata": {},
   "outputs": [],
   "source": [
    "image = input_images[0]\n",
    "label = input_labels[0]\n",
    "print(image.shape, label.shape)"
   ]
  },
  {
   "cell_type": "code",
   "execution_count": null,
   "metadata": {},
   "outputs": [],
   "source": [
    "data = {\n",
    "  \"image\": image,\n",
    "  \"mask\": mask,\n",
    "  }\n",
    "image_data = {\"image\":image,\"mask\":label}\n",
    "resized = augmentation_test(**image_data)\n",
    "# resized_label = augmentation_test(**label_data)\n",
    "print(resized['image'].shape, resized['mask'].shape)"
   ]
  },
  {
   "cell_type": "code",
   "execution_count": null,
   "metadata": {},
   "outputs": [],
   "source": [
    "import numpy as np\n",
    "from PIL import Image\n",
    "\n",
    "def extract_class_color_mapping(masks):\n",
    "    \"\"\"\n",
    "    마스크 이미지들에서 클래스별 색상 매핑을 추출하는 함수\n",
    "    :param masks: 마스크 이미지의 리스트\n",
    "    :return: 클래스와 색상의 매핑 딕셔너리\n",
    "    \"\"\"\n",
    "    color_mapping = {}\n",
    "    class_id = 0\n",
    "\n",
    "    for mask in masks:\n",
    "        # 마스크 이미지를 NumPy 배열로 변환\n",
    "        mask_np = np.array(mask)\n",
    "        # 고유한 색상 찾기\n",
    "        unique_colors = np.unique(mask_np.reshape(-1, mask_np.shape[2]), axis=0)\n",
    "\n",
    "        for color in unique_colors:\n",
    "            # 색상을 튜플로 변환\n",
    "            color_tuple = tuple(color)\n",
    "            # 새로운 색상이면 클래스 ID 할당\n",
    "            if color_tuple not in color_mapping:\n",
    "                color_mapping[color_tuple] = class_id\n",
    "                class_id += 1\n",
    "\n",
    "    return color_mapping\n",
    "\n",
    "\n",
    "\n",
    "def map_color_mask_to_integer(color_mask, mapping):\n",
    "    integer_mask = np.zeros(color_mask.shape[:-1], dtype=np.uint8)\n",
    "    for row in range(color_mask.shape[0]):\n",
    "        for col in range(color_mask.shape[1]):\n",
    "            color = tuple(color_mask[row, col])\n",
    "            if color in mapping:\n",
    "                integer_mask[row, col] = mapping[color]\n",
    "    return integer_mask"
   ]
  },
  {
   "cell_type": "code",
   "execution_count": null,
   "metadata": {},
   "outputs": [],
   "source": [
    "# 데이터셋에서 마스크 목록 추출\n",
    "masks = [sample['mask'] for sample in dataset]\n",
    "\n",
    "# 클래스와 색상 매핑 추출\n",
    "class_color_mapping = extract_class_color_mapping(masks)\n",
    "\n",
    "# 매핑 결과 출력\n",
    "print(\"클래스와 색상 매핑:\")\n",
    "print(class_color_mapping)"
   ]
  },
  {
   "cell_type": "code",
   "execution_count": null,
   "metadata": {},
   "outputs": [],
   "source": [
    "def create_inverse_mapping(class_color_mapping):\n",
    "    \"\"\"\n",
    "    클래스 ID에서 색상으로의 역 매핑을 생성하는 함수\n",
    "    :param class_color_mapping: 클래스와 색상의 매핑 딕셔너리\n",
    "    :return: 역 매핑 딕셔너리\n",
    "    \"\"\"\n",
    "    inverse_mapping = {class_id: color for color, class_id in class_color_mapping.items()}\n",
    "    return inverse_mapping"
   ]
  },
  {
   "cell_type": "code",
   "execution_count": null,
   "metadata": {},
   "outputs": [],
   "source": [
    "inverse_mapping = create_inverse_mapping(class_color_mapping)\n",
    "# 역 매핑 결과 출력\n",
    "print(\"역 매핑:\")\n",
    "print(inverse_mapping)"
   ]
  },
  {
   "cell_type": "code",
   "execution_count": null,
   "metadata": {},
   "outputs": [],
   "source": [
    "# 5행 5열의 서브플롯 생성\n",
    "plt.figure(figsize=(15, 15))\n",
    "for class_id, color in inverse_mapping.items():\n",
    "    ax = plt.subplot(5, 5, class_id + 1)\n",
    "    ax.set_title(f\"Class {class_id}\")\n",
    "    ax.imshow(np.full((10, 10, 3), color, dtype=np.uint8))  # 색상으로 채운 작은 이미지 생성\n",
    "    ax.axis('off')\n",
    "\n",
    "# 나머지 빈 서브플롯 숨기기\n",
    "for i in range(len(inverse_mapping) + 1, 26):\n",
    "    ax = plt.subplot(5, 5, i)\n",
    "    ax.axis('off')\n",
    "\n",
    "plt.tight_layout()\n",
    "plt.show()"
   ]
  },
  {
   "cell_type": "code",
   "execution_count": null,
   "metadata": {},
   "outputs": [],
   "source": [
    "# 컬러 시맨틱 세그멘테이션 마스크를 정수로 변환\n",
    "integer_mask = map_color_mask_to_integer(np.array(resized['mask']), class_color_mapping)\n",
    "integer_mask.shape"
   ]
  },
  {
   "cell_type": "code",
   "execution_count": null,
   "metadata": {},
   "outputs": [],
   "source": [
    "def map_integer_mask_to_color(integer_mask, reverse_mapping):\n",
    "    color_mask = np.zeros((integer_mask.shape[0], integer_mask.shape[1], 3), dtype=np.uint8)\n",
    "    for row in range(integer_mask.shape[0]):\n",
    "        for col in range(integer_mask.shape[1]):\n",
    "            class_idx = integer_mask[row, col]\n",
    "            color = reverse_mapping[class_idx]\n",
    "            # 컬러 값을 [0, 255] 범위로 스케일링\n",
    "            scaled_color = np.clip(color, 0, 255)\n",
    "            color_mask[row, col] = scaled_color\n",
    "\n",
    "    return color_mask\n",
    "\n",
    "restored_color_mask = map_integer_mask_to_color(integer_mask, inverse_mapping)"
   ]
  },
  {
   "cell_type": "code",
   "execution_count": null,
   "metadata": {},
   "outputs": [],
   "source": [
    "plt.figure(figsize = (18,5))\n",
    "plt.subplot(1, 3, 1)\n",
    "plt.imshow(resized[\"image\"])\n",
    "plt.subplot(1, 3, 2)\n",
    "plt.imshow(integer_mask)\n",
    "plt.subplot(1, 3, 3)\n",
    "plt.imshow(Image.blend(Image.fromarray(resized[\"image\"]),Image.fromarray(restored_color_mask), alpha=0.5))\n",
    "plt.show()"
   ]
  },
  {
   "cell_type": "code",
   "execution_count": null,
   "metadata": {},
   "outputs": [],
   "source": [
    "import os\n",
    "import math\n",
    "import random\n",
    "import numpy as np\n",
    "from glob import glob\n",
    "from skimage.io import imread\n",
    "from PIL import Image\n",
    "from datasets import DatasetDict\n",
    "class DataGenerator(tf.keras.utils.Sequence):\n",
    "    \n",
    "    def __init__(self , batch_size=16, img_size=(224, 224, 3), output_size=(224, 224),\n",
    "                 is_train=True, is_val=False, augmentation=None):\n",
    "        '''\n",
    "        batch_size: batch_size입니다.\n",
    "        img_size: preprocess에 사용할 입력이미지의 크기입니다.\n",
    "        output_size: ground_truth를 만들어주기 위한 크기입니다.\n",
    "        is_train: 이 Generator가 학습용인지 테스트용인지 구분합니다.\n",
    "        augmentation: 적용하길 원하는 augmentation 함수를 인자로 받습니다.\n",
    "        '''\n",
    "        self.batch_size = batch_size\n",
    "        self.is_train = is_train\n",
    "        self.is_val = is_val\n",
    "        self.augmentation = augmentation\n",
    "        self.img_size = img_size\n",
    "        self.output_size = output_size\n",
    "\n",
    "        self.data = self.load_dataset().to_list()\n",
    "        print(type(self.data))\n",
    "\n",
    "    def load_dataset(self):\n",
    "        dataset = load_dataset(\"nateraw/pascal-voc-2012\", split='train')\n",
    "        shuffled_dataset = dataset.shuffle(seed=42)\n",
    "\n",
    "        # 데이터셋 분할 비율 설정\n",
    "        train_ratio = 0.7\n",
    "        val_ratio = 0.2\n",
    "        test_ratio = 0.1\n",
    "\n",
    "        # 훈련, 검증, 테스트 세트로 분할\n",
    "        split_datasets = shuffled_dataset.train_test_split(test_size=(val_ratio + test_ratio))\n",
    "        test_dataset = split_datasets['test'].train_test_split(test_size=test_ratio / (val_ratio + test_ratio))\n",
    "\n",
    "        # 최종적으로 분할된 데이터셋\n",
    "        data = DatasetDict({\n",
    "            'train': split_datasets['train'],\n",
    "            'validation': test_dataset['train'],\n",
    "            'test': test_dataset['test']\n",
    "        })\n",
    "\n",
    "        if self.is_train:\n",
    "            return data['train']\n",
    "        elif self.is_val:\n",
    "            return data['validation']\n",
    "        else:\n",
    "            return data['test']\n",
    "    def __len__(self):\n",
    "        return math.ceil(len(self.data) / self.batch_size)\n",
    "\n",
    "    def __getitem__(self, index):\n",
    "        print(self.data)\n",
    "        batch_data = self.data[index*self.batch_size : (index + 1)*self.batch_size]\n",
    "        print(type(batch_data))\n",
    "        inputs = np.zeros([self.batch_size, *self.img_size])\n",
    "        outputs = np.zeros([self.batch_size, *self.output_size[:2]])\n",
    "        for i, data in enumerate(batch_data):\n",
    "            print(type(data))\n",
    "            img, mask = data\n",
    "            \n",
    "            _input = np.array(resize_image(img))\n",
    "            _output = np.array(resize_image(mask))\n",
    "\n",
    "\n",
    "            augmented = self.augmentation(image=_input, mask=mask) if self.augmentation else {'image': _input, 'mask': _output}\n",
    "\n",
    "            integer_mask = map_color_mask_to_integer(augmented['mask'])\n",
    "            outputs[i] = integer_mask\n",
    "\n",
    "            image_array = augmented[\"image\"] / 255.0\n",
    "            inputs[i] = image_array\n",
    "\n",
    "        return inputs, outputs\n",
    "\n",
    "\n",
    "\n",
    "    def on_epoch_end(self):\n",
    "        self.indexes = np.arange(len(self.data))\n",
    "        if self.is_train:\n",
    "            np.random.shuffle(self.indexes)\n",
    "        return self.indexes\n"
   ]
  },
  {
   "cell_type": "code",
   "execution_count": null,
   "metadata": {},
   "outputs": [],
   "source": [
    "augmentation = build_augmentation()\n",
    "test_preproc = build_augmentation(is_train=False)\n",
    "        \n",
    "train_generator = DataGenerator(\n",
    "    augmentation=augmentation,\n",
    ")\n",
    "val_generator = DataGenerator(\n",
    "    augmentation=test_preproc,\n",
    "    is_train = False,\n",
    "    is_val = True\n",
    ")\n",
    "test_generator = DataGenerator(\n",
    "    augmentation=test_preproc,\n",
    "    is_train = False,\n",
    "    is_val = False\n",
    ")"
   ]
  },
  {
   "cell_type": "code",
   "execution_count": null,
   "metadata": {},
   "outputs": [],
   "source": [
    "train_generator.batch_size,val_generator.batch_size,test_generator.batch_size"
   ]
  },
  {
   "cell_type": "code",
   "execution_count": null,
   "metadata": {},
   "outputs": [],
   "source": [
    "len(train_generator),len(val_generator),len(test_generator) # *16 해야 데이터 수 근사"
   ]
  },
  {
   "cell_type": "code",
   "execution_count": null,
   "metadata": {},
   "outputs": [],
   "source": [
    "for image, mask in train_generator:\n",
    "        sample_image, sample_mask = image, mask\n",
    "        break\n",
    "sample_image.shape, sample_mask.shape"
   ]
  }
 ],
 "metadata": {
  "language_info": {
   "name": "python"
  }
 },
 "nbformat": 4,
 "nbformat_minor": 2
}
